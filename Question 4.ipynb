{
 "cells": [
  {
   "cell_type": "markdown",
   "id": "0657d46e",
   "metadata": {},
   "source": [
    "# Import libraries"
   ]
  },
  {
   "cell_type": "code",
   "execution_count": 9,
   "id": "e0124b8f",
   "metadata": {},
   "outputs": [],
   "source": [
    "from IPython.core.interactiveshell import InteractiveShell\n",
    "InteractiveShell.ast_node_interactivity = \"all\"\n",
    "#from sympy import *\n",
    "from sympy import Matrix, init_printing,Transpose\n",
    "from sympy.solvers.solveset import linsolve\n",
    "from ipywidgets import *\n",
    "from IPython.display import display,clear_output,HTML"
   ]
  },
  {
   "cell_type": "markdown",
   "id": "ec8db619",
   "metadata": {},
   "source": [
    "# Styling"
   ]
  },
  {
   "cell_type": "code",
   "execution_count": 10,
   "id": "60df70cd",
   "metadata": {},
   "outputs": [
    {
     "data": {
      "text/html": [
       "<style>\n",
       "textarea, input,label{\n",
       "    font-family: Cambria Math;\n",
       "    text-align: center;\n",
       "}\n",
       ".widget-label{font-family: Cambria Math;\n",
       "    text-align: center;}\n",
       ".widget-text { width: 10ex; }\n",
       ":root {\n",
       "    --jp-ui-font-size1: 16px;\n",
       "}\n",
       "</style>\n"
      ],
      "text/plain": [
       "<IPython.core.display.HTML object>"
      ]
     },
     "metadata": {},
     "output_type": "display_data"
    }
   ],
   "source": [
    "%%html\n",
    "<style>\n",
    "textarea, input,label{\n",
    "    font-family: Cambria Math;\n",
    "    text-align: center;\n",
    "}\n",
    ".widget-label{font-family: Cambria Math;\n",
    "    text-align: center;}\n",
    ".widget-text { width: 10ex; }\n",
    ":root {\n",
    "    --jp-ui-font-size1: 16px;\n",
    "}\n",
    "</style>"
   ]
  },
  {
   "cell_type": "code",
   "execution_count": 3,
   "id": "187b4eb9",
   "metadata": {},
   "outputs": [
    {
     "data": {
      "text/html": [
       "<style>\n",
       ".output {\n",
       "    display: flex;\n",
       "    align-items: center;\n",
       "    justify-content:center;\n",
       "    text-align: center;\n",
       "}\n",
       "-button{\n",
       "    background-color: #689e5f\n",
       "}\n",
       "</style>"
      ],
      "text/plain": [
       "<IPython.core.display.HTML object>"
      ]
     },
     "execution_count": 3,
     "metadata": {},
     "output_type": "execute_result"
    }
   ],
   "source": [
    "CSS = \"\"\"\n",
    ".output {\n",
    "    display: flex;\n",
    "    align-items: center;\n",
    "    justify-content:center;\n",
    "    text-align: center;\n",
    "}\n",
    "-button{\n",
    "    background-color: #689e5f\n",
    "}\n",
    "\"\"\"\n",
    "HTML('<style>{}</style>'.format(CSS))"
   ]
  },
  {
   "cell_type": "markdown",
   "id": "b5af82f1",
   "metadata": {},
   "source": [
    "# WORK"
   ]
  },
  {
   "cell_type": "code",
   "execution_count": 4,
   "id": "385fcc0b",
   "metadata": {},
   "outputs": [
    {
     "name": "stdout",
     "output_type": "stream",
     "text": [
      "Number of rooms: 9\n"
     ]
    }
   ],
   "source": [
    "n = int(input(\"Number of rooms: \"))"
   ]
  },
  {
   "cell_type": "code",
   "execution_count": 5,
   "id": "f80f62a3",
   "metadata": {},
   "outputs": [
    {
     "name": "stdout",
     "output_type": "stream",
     "text": [
      "Enter adjacent room(s) relative to the current room, seperated by white space\n",
      "Adjacent rooms to\n",
      "Room 1:   3 2\n",
      "Room 2:   3\n",
      "Room 3:   1 4 5 6\n",
      "Room 4:   3\n",
      "Room 5:   3\n",
      "Room 6:   3 7\n",
      "Room 7:   6 8 9\n",
      "Room 8:   7\n",
      "Room 9:   7\n",
      "Enter room(s) that contain mouse trap:    1\n",
      "Enter successfully trapped probability: 0.1\n"
     ]
    }
   ],
   "source": [
    "print(\"Enter adjacent room(s) relative to the current room, seperated by white space\\nAdjacent rooms to\")\n",
    "room_map = [input(f\"Room {i+1}:   \").strip().split() for i in range(n)]\n",
    "trap = input(\"Enter room(s) that contain mouse trap:    \").strip().split()\n",
    "trap_prob = float(input(\"Enter successfully trapped probability: \"))"
   ]
  },
  {
   "cell_type": "code",
   "execution_count": 18,
   "id": "f2793263",
   "metadata": {},
   "outputs": [
    {
     "name": "stdout",
     "output_type": "stream",
     "text": [
      "Total Transition Matrix\n"
     ]
    },
    {
     "data": {
      "text/latex": [
       "$\\displaystyle \\left[\\begin{matrix}0.1 & \\frac{9}{20} & \\frac{9}{20} & 0 & 0 & 0 & 0 & 0 & 0\\\\0 & 0 & 1 & 0 & 0 & 0 & 0 & 0 & 0\\\\\\frac{1}{4} & 0 & 0 & \\frac{1}{4} & \\frac{1}{4} & \\frac{1}{4} & 0 & 0 & 0\\\\0 & 0 & 1 & 0 & 0 & 0 & 0 & 0 & 0\\\\0 & 0 & 1 & 0 & 0 & 0 & 0 & 0 & 0\\\\0 & 0 & \\frac{1}{2} & 0 & 0 & 0 & \\frac{1}{2} & 0 & 0\\\\0 & 0 & 0 & 0 & 0 & \\frac{1}{3} & 0 & \\frac{1}{3} & \\frac{1}{3}\\\\0 & 0 & 0 & 0 & 0 & 0 & 1 & 0 & 0\\\\0 & 0 & 0 & 0 & 0 & 0 & 1 & 0 & 0\\end{matrix}\\right]$"
      ],
      "text/plain": [
       "⎡0.1  9/20  9/20   0    0    0    0    0    0 ⎤\n",
       "⎢                                             ⎥\n",
       "⎢ 0    0     1     0    0    0    0    0    0 ⎥\n",
       "⎢                                             ⎥\n",
       "⎢1/4   0     0    1/4  1/4  1/4   0    0    0 ⎥\n",
       "⎢                                             ⎥\n",
       "⎢ 0    0     1     0    0    0    0    0    0 ⎥\n",
       "⎢                                             ⎥\n",
       "⎢ 0    0     1     0    0    0    0    0    0 ⎥\n",
       "⎢                                             ⎥\n",
       "⎢ 0    0    1/2    0    0    0   1/2   0    0 ⎥\n",
       "⎢                                             ⎥\n",
       "⎢ 0    0     0     0    0   1/3   0   1/3  1/3⎥\n",
       "⎢                                             ⎥\n",
       "⎢ 0    0     0     0    0    0    1    0    0 ⎥\n",
       "⎢                                             ⎥\n",
       "⎣ 0    0     0     0    0    0    1    0    0 ⎦"
      ]
     },
     "execution_count": 18,
     "metadata": {},
     "output_type": "execute_result"
    }
   ],
   "source": [
    "def get_Markov(room_map,trap,trap_prob):\n",
    "    m = []\n",
    "    for i in range(len(room_map)):\n",
    "        if str(i+1) in trap:\n",
    "            tmp = [nsimplify((1-trap_prob)/len(room_map[i])) if str(room+1) in room_map[i] else 0 for room in range(n)] \n",
    "            tmp[i]=trap_prob\n",
    "        else:\n",
    "            tmp = [nsimplify(1/len(room_map[i])) if str(room+1) in room_map[i] else 0 for room in range(n)]  \n",
    "        m.append(tmp)\n",
    "    return Matrix(m)\n",
    "print(\"Total Transition Matrix\")\n",
    "markov = get_Markov(room_map,trap,trap_prob)\n",
    "markov"
   ]
  },
  {
   "cell_type": "code",
   "execution_count": 19,
   "id": "cddaa648",
   "metadata": {},
   "outputs": [
    {
     "name": "stdout",
     "output_type": "stream",
     "text": [
      "Steady-State Vector of Markov Chain\n"
     ]
    },
    {
     "data": {
      "text/latex": [
       "$\\displaystyle \\left[\\begin{matrix}\\frac{1}{9}\\\\\\frac{1}{9}\\\\\\frac{1}{9}\\\\\\frac{1}{9}\\\\\\frac{1}{9}\\\\\\frac{1}{9}\\\\\\frac{1}{9}\\\\\\frac{1}{9}\\\\\\frac{1}{9}\\end{matrix}\\right]$"
      ],
      "text/plain": [
       "⎡1/9⎤\n",
       "⎢   ⎥\n",
       "⎢1/9⎥\n",
       "⎢   ⎥\n",
       "⎢1/9⎥\n",
       "⎢   ⎥\n",
       "⎢1/9⎥\n",
       "⎢   ⎥\n",
       "⎢1/9⎥\n",
       "⎢   ⎥\n",
       "⎢1/9⎥\n",
       "⎢   ⎥\n",
       "⎢1/9⎥\n",
       "⎢   ⎥\n",
       "⎢1/9⎥\n",
       "⎢   ⎥\n",
       "⎣1/9⎦"
      ]
     },
     "execution_count": 19,
     "metadata": {},
     "output_type": "execute_result"
    },
    {
     "data": {
      "text/plain": [
       "'Markov chain - steady vector - Multiplied'"
      ]
     },
     "execution_count": 19,
     "metadata": {},
     "output_type": "execute_result"
    },
    {
     "data": {
      "text/latex": [
       "$\\displaystyle \\left( \\left[\\begin{matrix}0.1 & \\frac{9}{20} & \\frac{9}{20} & 0 & 0 & 0 & 0 & 0 & 0\\\\0 & 0 & 1 & 0 & 0 & 0 & 0 & 0 & 0\\\\\\frac{1}{4} & 0 & 0 & \\frac{1}{4} & \\frac{1}{4} & \\frac{1}{4} & 0 & 0 & 0\\\\0 & 0 & 1 & 0 & 0 & 0 & 0 & 0 & 0\\\\0 & 0 & 1 & 0 & 0 & 0 & 0 & 0 & 0\\\\0 & 0 & \\frac{1}{2} & 0 & 0 & 0 & \\frac{1}{2} & 0 & 0\\\\0 & 0 & 0 & 0 & 0 & \\frac{1}{3} & 0 & \\frac{1}{3} & \\frac{1}{3}\\\\0 & 0 & 0 & 0 & 0 & 0 & 1 & 0 & 0\\\\0 & 0 & 0 & 0 & 0 & 0 & 1 & 0 & 0\\end{matrix}\\right], \\  \\left[\\begin{matrix}\\frac{1}{9}\\\\\\frac{1}{9}\\\\\\frac{1}{9}\\\\\\frac{1}{9}\\\\\\frac{1}{9}\\\\\\frac{1}{9}\\\\\\frac{1}{9}\\\\\\frac{1}{9}\\\\\\frac{1}{9}\\end{matrix}\\right], \\  \\left[\\begin{matrix}\\frac{1}{9}\\\\\\frac{1}{9}\\\\\\frac{1}{9}\\\\\\frac{1}{9}\\\\\\frac{1}{9}\\\\\\frac{1}{9}\\\\\\frac{1}{9}\\\\\\frac{1}{9}\\\\\\frac{1}{9}\\end{matrix}\\right]\\right)$"
      ],
      "text/plain": [
       "⎛⎡0.1  9/20  9/20   0    0    0    0    0    0 ⎤  ⎡1/9⎤  ⎡1/9⎤⎞\n",
       "⎜⎢                                             ⎥  ⎢   ⎥  ⎢   ⎥⎟\n",
       "⎜⎢ 0    0     1     0    0    0    0    0    0 ⎥  ⎢1/9⎥  ⎢1/9⎥⎟\n",
       "⎜⎢                                             ⎥  ⎢   ⎥  ⎢   ⎥⎟\n",
       "⎜⎢1/4   0     0    1/4  1/4  1/4   0    0    0 ⎥  ⎢1/9⎥  ⎢1/9⎥⎟\n",
       "⎜⎢                                             ⎥  ⎢   ⎥  ⎢   ⎥⎟\n",
       "⎜⎢ 0    0     1     0    0    0    0    0    0 ⎥  ⎢1/9⎥  ⎢1/9⎥⎟\n",
       "⎜⎢                                             ⎥  ⎢   ⎥  ⎢   ⎥⎟\n",
       "⎜⎢ 0    0     1     0    0    0    0    0    0 ⎥, ⎢1/9⎥, ⎢1/9⎥⎟\n",
       "⎜⎢                                             ⎥  ⎢   ⎥  ⎢   ⎥⎟\n",
       "⎜⎢ 0    0    1/2    0    0    0   1/2   0    0 ⎥  ⎢1/9⎥  ⎢1/9⎥⎟\n",
       "⎜⎢                                             ⎥  ⎢   ⎥  ⎢   ⎥⎟\n",
       "⎜⎢ 0    0     0     0    0   1/3   0   1/3  1/3⎥  ⎢1/9⎥  ⎢1/9⎥⎟\n",
       "⎜⎢                                             ⎥  ⎢   ⎥  ⎢   ⎥⎟\n",
       "⎜⎢ 0    0     0     0    0    0    1    0    0 ⎥  ⎢1/9⎥  ⎢1/9⎥⎟\n",
       "⎜⎢                                             ⎥  ⎢   ⎥  ⎢   ⎥⎟\n",
       "⎝⎣ 0    0     0     0    0    0    1    0    0 ⎦  ⎣1/9⎦  ⎣1/9⎦⎠"
      ]
     },
     "execution_count": 19,
     "metadata": {},
     "output_type": "execute_result"
    }
   ],
   "source": [
    "var = [f'x{i+1}' for i in range(n)]\n",
    "p =sympify('+'.join(var)+'-1')\n",
    "sys_eq=list((markov-eye(n))@Matrix((var)))\n",
    "c = list(next(iter(linsolve(sys_eq,symbols(' '.join(var))))))\n",
    "j=[sympify(f'x{i+1}')-c[i] for i in range(n)]+[p]\n",
    "steady = Matrix([nsimplify(_) for _ in next(iter((linsolve(j,symbols(' '.join(var))))))])\n",
    "print(\"Steady-State Vector of Markov Chain\")\n",
    "steady\n",
    "'Markov chain - steady vector - Multiplied'\n",
    "markov,steady, Matrix([nsimplify(_) for _ in markov@steady])"
   ]
  },
  {
   "cell_type": "code",
   "execution_count": 8,
   "id": "8c5df11f",
   "metadata": {},
   "outputs": [
    {
     "name": "stdout",
     "output_type": "stream",
     "text": [
      "Transtition Probability\n"
     ]
    },
    {
     "data": {
      "application/vnd.jupyter.widget-view+json": {
       "model_id": "6a7b8c710f5b45f48c27e9f167d49631",
       "version_major": 2,
       "version_minor": 0
      },
      "text/plain": [
       "HBox(children=(IntSlider(value=4, description='From Room', max=9, min=1), IntSlider(value=1, description='To R…"
      ]
     },
     "metadata": {},
     "output_type": "display_data"
    },
    {
     "data": {
      "application/vnd.jupyter.widget-view+json": {
       "model_id": "e8f2daf5dd624196afbce4f103d60e23",
       "version_major": 2,
       "version_minor": 0
      },
      "text/plain": [
       "Button(description='Compute', layout=Layout(width='auto'), style=ButtonStyle(button_color='lightgreen'), toolt…"
      ]
     },
     "metadata": {},
     "output_type": "display_data"
    },
    {
     "data": {
      "application/vnd.jupyter.widget-view+json": {
       "model_id": "2594ec8588664f38bf810dee28d3b04a",
       "version_major": 2,
       "version_minor": 0
      },
      "text/plain": [
       "Label(value='')"
      ]
     },
     "metadata": {},
     "output_type": "display_data"
    }
   ],
   "source": [
    "details = [widgets.IntSlider(value=4,min=1,max=9,step=1,description='From Room',orientation='horizontal',readout=True,readout_format='d'),\n",
    " widgets.IntSlider(value=1,min=1,max=9,step=1,description='To Room',orientation='horizontal',readout=True,readout_format='d'),\n",
    " widgets.Text(value='3',description='After',layout=Layout(display=\"flex\", justify_content=\"center\", width=\"200px\")),\n",
    " widgets.Label(value='Steps')]\n",
    "result = widgets.Label(value=\"\")\n",
    "button_compute = widgets.Button(description='Compute',layout={'width': 'auto'},tooltip = \"Cook math\",style = dict(button_color = 'lightgreen'))\n",
    "print(\"Transtition Probability\")\n",
    "display(widgets.HBox([i for i in details]))\n",
    "display(button_compute)\n",
    "display(result)\n",
    "def compute(event):\n",
    "    path = markov**int(details[2].value)\n",
    "    result.value = f'P({details[0].value},{details[1].value}) = {round(path[details[0].value-1,details[1].value-1],3)}' \n",
    "button_compute.on_click(compute)"
   ]
  }
 ],
 "metadata": {
  "kernelspec": {
   "display_name": "Python 3 (ipykernel)",
   "language": "python",
   "name": "python3"
  },
  "language_info": {
   "codemirror_mode": {
    "name": "ipython",
    "version": 3
   },
   "file_extension": ".py",
   "mimetype": "text/x-python",
   "name": "python",
   "nbconvert_exporter": "python",
   "pygments_lexer": "ipython3",
   "version": "3.9.7"
  }
 },
 "nbformat": 4,
 "nbformat_minor": 5
}
