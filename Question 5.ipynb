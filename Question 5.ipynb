{
 "cells": [
  {
   "cell_type": "markdown",
   "id": "8681243d",
   "metadata": {},
   "source": [
    "# Import libraries"
   ]
  },
  {
   "cell_type": "code",
   "execution_count": 1,
   "id": "18d34f55",
   "metadata": {},
   "outputs": [],
   "source": [
    "from IPython.core.interactiveshell import InteractiveShell\n",
    "InteractiveShell.ast_node_interactivity = \"all\"\n",
    "from sympy import *\n",
    "from sympy.solvers.solveset import linsolve\n",
    "from ipywidgets import *\n",
    "from IPython.display import display,clear_output,HTML"
   ]
  },
  {
   "cell_type": "markdown",
   "id": "39a36d8c",
   "metadata": {},
   "source": [
    "# Styling"
   ]
  },
  {
   "cell_type": "code",
   "execution_count": 2,
   "id": "03955fcc",
   "metadata": {},
   "outputs": [
    {
     "data": {
      "text/html": [
       "<style>\n",
       "textarea, input,label{\n",
       "    font-family: Cambria Math;\n",
       "    text-align: center;\n",
       "}\n",
       ".widget-label{font-family: Cambria Math;\n",
       "    text-align: center;}\n",
       ".widget-text { width: 10ex; }\n",
       ":root {\n",
       "    --jp-ui-font-size1: 16px;\n",
       "}\n",
       "</style>\n"
      ],
      "text/plain": [
       "<IPython.core.display.HTML object>"
      ]
     },
     "metadata": {},
     "output_type": "display_data"
    }
   ],
   "source": [
    "%%html\n",
    "<style>\n",
    "textarea, input,label{\n",
    "    font-family: Cambria Math;\n",
    "    text-align: center;\n",
    "}\n",
    ".widget-label{font-family: Cambria Math;\n",
    "    text-align: center;}\n",
    ".widget-text { width: 10ex; }\n",
    ":root {\n",
    "    --jp-ui-font-size1: 16px;\n",
    "}\n",
    "</style>"
   ]
  },
  {
   "cell_type": "code",
   "execution_count": 3,
   "id": "4545b9a2",
   "metadata": {},
   "outputs": [
    {
     "data": {
      "text/html": [
       "<style>\n",
       ".output {\n",
       "    display: flex;\n",
       "    align-items: center;\n",
       "    justify-content:center;\n",
       "    text-align: center;\n",
       "}\n",
       "-button{\n",
       "    background-color: #689e5f\n",
       "}\n",
       "</style>"
      ],
      "text/plain": [
       "<IPython.core.display.HTML object>"
      ]
     },
     "execution_count": 3,
     "metadata": {},
     "output_type": "execute_result"
    }
   ],
   "source": [
    "CSS = \"\"\"\n",
    ".output {\n",
    "    display: flex;\n",
    "    align-items: center;\n",
    "    justify-content:center;\n",
    "    text-align: center;\n",
    "}\n",
    "-button{\n",
    "    background-color: #689e5f\n",
    "}\n",
    "\"\"\"\n",
    "\n",
    "HTML('<style>{}</style>'.format(CSS))"
   ]
  },
  {
   "cell_type": "markdown",
   "id": "fe76bb4c",
   "metadata": {},
   "source": [
    "# WORK"
   ]
  },
  {
   "cell_type": "code",
   "execution_count": 4,
   "id": "eabd3c2f",
   "metadata": {},
   "outputs": [],
   "source": [
    "def get_expr(s):\n",
    "    return f\"({s.split('=')[0]})-({s.split('=')[1]})\""
   ]
  },
  {
   "cell_type": "code",
   "execution_count": 7,
   "id": "2acfdd6f",
   "metadata": {},
   "outputs": [
    {
     "data": {
      "application/vnd.jupyter.widget-view+json": {
       "model_id": "cbd55deba1df467d91e75a264b419cb3",
       "version_major": 2,
       "version_minor": 0
      },
      "text/plain": [
       "HBox(children=(VBox(children=(Label(value='Enter equality of in and out flows at each node'), Text(value='f3+2…"
      ]
     },
     "metadata": {},
     "output_type": "display_data"
    },
    {
     "data": {
      "application/vnd.jupyter.widget-view+json": {
       "model_id": "4eb37e3e23aa4c4cb4348ea7fe5a49b3",
       "version_major": 2,
       "version_minor": 0
      },
      "text/plain": [
       "Button(description='Compute', layout=Layout(width='auto'), style=ButtonStyle(button_color='lightgreen'), toolt…"
      ]
     },
     "metadata": {},
     "output_type": "display_data"
    },
    {
     "name": "stdout",
     "output_type": "stream",
     "text": [
      "Result\n"
     ]
    },
    {
     "data": {
      "application/vnd.jupyter.widget-view+json": {
       "model_id": "e276697c3685480a9ec31bf480dc690e",
       "version_major": 2,
       "version_minor": 0
      },
      "text/plain": [
       "VBox(children=(Text(value='f7 - 100', description=' f1 = ', layout=Layout(height='30px', width='250px'), style…"
      ]
     },
     "metadata": {},
     "output_type": "display_data"
    }
   ],
   "source": [
    "nodes = [widgets.Text(value='f3+200=f1+100',description='A',layout=Layout(display=\"flex\", justify_content=\"center\", width=\"500px\")),\n",
    "        widgets.Text(value='f1+150=f2+f4',description='B',layout=Layout(display=\"flex\", justify_content=\"center\", width=\"500px\")),\n",
    "         widgets.Text(value='f2+f5=200+100',description='C',layout=Layout(display=\"flex\", justify_content=\"center\", width=\"500px\")),\n",
    "         widgets.Text(value='f6+100=200+f3',description='D',layout=Layout(display=\"flex\", justify_content=\"center\", width=\"500px\")),\n",
    "         widgets.Text(value='f4+f7=f6+100',description='E',layout=Layout(display=\"flex\", justify_content=\"center\", width=\"500px\")),\n",
    "         widgets.Text(value='100+150=f5+f7',description='F',layout=Layout(display=\"flex\", justify_content=\"center\", width=\"500px\"))]\n",
    "subs = [widgets.Text(value='',description=f\" f{i+1} = \",layout=Layout(width='180px',height='30px'))\n",
    "       for i in range(7)]\n",
    "result = [widgets.Text(value='',description=f\" f{i+1} = \",style={'description_width': 'initial'},layout=Layout(width='250px',height='30px'))\n",
    "       for i in range(7)]\n",
    "button_compute = widgets.Button(description='Compute',layout={'width': 'auto'},tooltip = \"Make magic\",style = dict(button_color = 'lightgreen'))\n",
    "display(widgets.HBox([widgets.VBox([widgets.Label(value=\"Enter equality of in and out flows at each node\")]+[_ for _ in nodes]),\n",
    "                      widgets.VBox([widgets.Label(value=\"Substitution\")]+[_ for _ in subs])]))\n",
    "display(button_compute)\n",
    "\n",
    "def compute(event):\n",
    "    try:\n",
    "        clear_output(wait=True)\n",
    "        display(widgets.HBox([widgets.VBox([widgets.Label(value=\"Enter equality of in and out flows at each node\")]+[_ for _ in nodes]),\n",
    "                widgets.VBox([widgets.Label(value=\"Substitution\")]+[_ for _ in subs])]))\n",
    "        display(button_compute)\n",
    "        values = [i.value for i in subs]\n",
    "        sys_eq = [get_expr(i.value) for i in nodes]\n",
    "        if any(values):\n",
    "            for i in range(len(values)):\n",
    "                if values[i]:\n",
    "                    sys_eq[:] = [s.replace(f'f{i+1}',values[i]) for s in sys_eq]\n",
    "        solutions = next(iter(linsolve(sys_eq,symbols('f1 f2 f3 f4 f5 f6 f7'))))\n",
    "        for r,v,s in zip(result,values,solutions):\n",
    "            if v:\n",
    "                r.value = str(v)\n",
    "            else:\n",
    "                r.value = str(s)\n",
    "        print('Result')\n",
    "        display(widgets.VBox([_ for _ in result]))\n",
    "    except:\n",
    "        clear_output(wait=True)\n",
    "        display(widgets.HBox([widgets.VBox([widgets.Label(value=\"Enter equality of in and out flows at each node\")]+[_ for _ in nodes]),\n",
    "                widgets.VBox([widgets.Label(value=\"Substitution\")]+[_ for _ in subs])]))\n",
    "        display(button_compute)\n",
    "        display('CANNOT COMPUTE')\n",
    "button_compute.on_click(compute)"
   ]
  }
 ],
 "metadata": {
  "kernelspec": {
   "display_name": "Python 3 (ipykernel)",
   "language": "python",
   "name": "python3"
  },
  "language_info": {
   "codemirror_mode": {
    "name": "ipython",
    "version": 3
   },
   "file_extension": ".py",
   "mimetype": "text/x-python",
   "name": "python",
   "nbconvert_exporter": "python",
   "pygments_lexer": "ipython3",
   "version": "3.9.7"
  }
 },
 "nbformat": 4,
 "nbformat_minor": 5
}
