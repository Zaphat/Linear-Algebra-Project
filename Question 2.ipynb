{
 "cells": [
  {
   "cell_type": "markdown",
   "id": "23fbfe15",
   "metadata": {},
   "source": [
    "# Import libraries"
   ]
  },
  {
   "cell_type": "code",
   "execution_count": 1,
   "id": "ef02820e",
   "metadata": {},
   "outputs": [],
   "source": [
    "from math import *\n",
    "import numpy as np\n",
    "from sympy import Matrix, init_printing\n",
    "from IPython.core.interactiveshell import InteractiveShell\n",
    "InteractiveShell.ast_node_interactivity = \"all\"\n",
    "from IPython.display import display, Math, Latex"
   ]
  },
  {
   "cell_type": "markdown",
   "id": "58d2f133",
   "metadata": {},
   "source": [
    "# Styling"
   ]
  },
  {
   "cell_type": "code",
   "execution_count": 2,
   "id": "e5960c02",
   "metadata": {},
   "outputs": [
    {
     "data": {
      "text/html": [
       "<style>\n",
       "textarea, input {\n",
       "    font-family: Cambria Math;\n",
       "    text-align: center;\n",
       "}\n",
       ":root {\n",
       "    --jp-ui-font-size1: 16px;\n",
       "}\n",
       "</style>\n"
      ],
      "text/plain": [
       "<IPython.core.display.HTML object>"
      ]
     },
     "metadata": {},
     "output_type": "display_data"
    }
   ],
   "source": [
    "%%html\n",
    "<style>\n",
    "textarea, input {\n",
    "    font-family: Cambria Math;\n",
    "    text-align: center;\n",
    "}\n",
    ":root {\n",
    "    --jp-ui-font-size1: 16px;\n",
    "}\n",
    "</style>"
   ]
  },
  {
   "cell_type": "markdown",
   "id": "ef705b22",
   "metadata": {},
   "source": [
    "# WORK"
   ]
  },
  {
   "cell_type": "code",
   "execution_count": null,
   "id": "23c4cc72",
   "metadata": {},
   "outputs": [],
   "source": [
    "n = int(input(\"Size n of matrix A: \"))"
   ]
  },
  {
   "cell_type": "code",
   "execution_count": null,
   "id": "630392a6",
   "metadata": {},
   "outputs": [],
   "source": [
    "print(\"Enter elements in each row of A, seperated by white space\")\n",
    "A = Matrix([input().strip().split() for _ in range(n)])"
   ]
  },
  {
   "cell_type": "code",
   "execution_count": null,
   "id": "b36b649e",
   "metadata": {},
   "outputs": [],
   "source": [
    "display(Latex(f\"Enter vector B$_{n}$$_x$$_1$, elements seperated by white space\"))\n",
    "B = Matrix([input().strip().split() for _ in range(n)])"
   ]
  },
  {
   "cell_type": "code",
   "execution_count": null,
   "id": "26d3a200",
   "metadata": {},
   "outputs": [],
   "source": [
    "L,U,_ = A.LUdecomposition()\n",
    "Y = L.inv()@B\n",
    "X = U.inv()@Y"
   ]
  },
  {
   "cell_type": "code",
   "execution_count": null,
   "id": "fe22b23c",
   "metadata": {},
   "outputs": [],
   "source": [
    "print(\"A\")\n",
    "A\n",
    "print(\"B\")\n",
    "B\n",
    "print(\"X\")\n",
    "X"
   ]
  }
 ],
 "metadata": {
  "kernelspec": {
   "display_name": "Python 3 (ipykernel)",
   "language": "python",
   "name": "python3"
  },
  "language_info": {
   "codemirror_mode": {
    "name": "ipython",
    "version": 3
   },
   "file_extension": ".py",
   "mimetype": "text/x-python",
   "name": "python",
   "nbconvert_exporter": "python",
   "pygments_lexer": "ipython3",
   "version": "3.9.7"
  }
 },
 "nbformat": 4,
 "nbformat_minor": 5
}
